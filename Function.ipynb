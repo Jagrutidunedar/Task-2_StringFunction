{
 "cells": [
  {
   "cell_type": "markdown",
   "id": "5f00f407-b610-4a92-944b-f770f966500a",
   "metadata": {},
   "source": [
    "**1.Casefold()Method** :- Converts the first character to lower case"
   ]
  },
  {
   "cell_type": "code",
   "execution_count": 3,
   "id": "78e477fa-3dd4-465c-85a9-74251c7430b6",
   "metadata": {},
   "outputs": [
    {
     "name": "stdout",
     "output_type": "stream",
     "text": [
      "this,is jagruti\n"
     ]
    }
   ],
   "source": [
    " #Example1\n",
    "message = \"This,Is Jagruti\"\n",
    "m = message.casefold()\n",
    "print(m)"
   ]
  },
  {
   "cell_type": "code",
   "execution_count": 5,
   "id": "1d38d2ff-bb78-43f7-a411-c735f2688cf8",
   "metadata": {},
   "outputs": [
    {
     "name": "stdout",
     "output_type": "stream",
     "text": [
      "hello,and welcome to my wrold\n"
     ]
    }
   ],
   "source": [
    "#Example2\n",
    "txt = \"Hello,And Welcome To My Wrold\"\n",
    "x = txt.casefold()\n",
    "print(x)"
   ]
  },
  {
   "cell_type": "markdown",
   "id": "c0ecba75-2ea9-4d31-afd4-562830d0f36a",
   "metadata": {},
   "source": [
    "**2.Capitalize()Method** :-  Converts the first character to upper case"
   ]
  },
  {
   "cell_type": "code",
   "execution_count": 8,
   "id": "922af8e9-ddc6-4eff-a853-95d1b4ec523e",
   "metadata": {},
   "outputs": [
    {
     "name": "stdout",
     "output_type": "stream",
     "text": [
      "Hello,and welcome to my wrold\n"
     ]
    }
   ],
   "source": [
    "#Example1\n",
    "txt = \"Hello,and welcome to my wrold\"\n",
    "x = txt.capitalize()\n",
    "print(x)"
   ]
  },
  {
   "cell_type": "code",
   "execution_count": 140,
   "id": "c2505420-0b8d-4b87-8c55-9767561fab35",
   "metadata": {},
   "outputs": [
    {
     "name": "stdout",
     "output_type": "stream",
     "text": [
      "Stree2, release soon\n"
     ]
    }
   ],
   "source": [
    "#Example2\n",
    "movie = \"Stree2, Release Soon\"\n",
    "m = movie.capitalize()\n",
    "print(m)"
   ]
  },
  {
   "cell_type": "markdown",
   "id": "1f099841-ad28-4ea9-8864-fef8e5dd55b0",
   "metadata": {},
   "source": [
    "**3.Center()Method** :-Returns a centers string"
   ]
  },
  {
   "cell_type": "code",
   "execution_count": 143,
   "id": "522c58ed-fa90-434d-baea-adafbbe6fd91",
   "metadata": {},
   "outputs": [
    {
     "name": "stdout",
     "output_type": "stream",
     "text": [
      "                    Strawberry                    \n"
     ]
    }
   ],
   "source": [
    "#Example1\n",
    "Fruit = \"Strawberry\"\n",
    "F = Fruit.center(50)\n",
    "print(F)"
   ]
  },
  {
   "cell_type": "code",
   "execution_count": 145,
   "id": "d47ba925-fcd1-48c7-9dc9-1b94305d2e56",
   "metadata": {},
   "outputs": [
    {
     "name": "stdout",
     "output_type": "stream",
     "text": [
      "                                              Cabbage                                               \n"
     ]
    }
   ],
   "source": [
    "#Example2\n",
    "Vegitable = \"Cabbage\"\n",
    "V = Vegitable.center(100)\n",
    "print(V)"
   ]
  },
  {
   "cell_type": "markdown",
   "id": "01e195f4-381b-4dcc-9aca-e6544891764c",
   "metadata": {},
   "source": [
    "**4.Count()Method** :-Returns a number of times a specified value occurs in a string"
   ]
  },
  {
   "cell_type": "code",
   "execution_count": 148,
   "id": "3fbec4a1-7d92-4a9f-bd6b-0a14c53d5c16",
   "metadata": {},
   "outputs": [
    {
     "name": "stdout",
     "output_type": "stream",
     "text": [
      "2\n"
     ]
    }
   ],
   "source": [
    "#Example1\n",
    "Hobbies = \"I love to make painting,painting is my fav Hobbie\"\n",
    "H = Hobbies.count(\"painting\")\n",
    "print(H)\n"
   ]
  },
  {
   "cell_type": "code",
   "execution_count": 150,
   "id": "d939ccbb-fb52-4531-9c25-b9b1aad3ff4b",
   "metadata": {},
   "outputs": [
    {
     "name": "stdout",
     "output_type": "stream",
     "text": [
      "4\n"
     ]
    }
   ],
   "source": [
    "#Example2\n",
    "Info = \"Roses are red,most of the people like Roses,Roses are littel expensives than other flowers,Roses are avilable in different colours\"\n",
    "S = Info.count(\"Roses\")\n",
    "print(S)"
   ]
  },
  {
   "attachments": {},
   "cell_type": "markdown",
   "id": "f450b082-cb72-49e6-8a6f-9de5c062445a",
   "metadata": {},
   "source": [
    "**5.encode()Method** :-Returns a encoded verion of string"
   ]
  },
  {
   "cell_type": "code",
   "execution_count": 155,
   "id": "0824d169-62de-4a1b-ae5a-1d9fdca7f5e3",
   "metadata": {},
   "outputs": [
    {
     "name": "stdout",
     "output_type": "stream",
     "text": [
      "b'My name is j@gruti'\n"
     ]
    }
   ],
   "source": [
    "#Example1\n",
    "Name = \"My name is j@gruti\"\n",
    "output = Name.encode()\n",
    "print(output)"
   ]
  },
  {
   "cell_type": "code",
   "execution_count": 157,
   "id": "110af7b6-d8cb-4041-8717-535a97723e8d",
   "metadata": {},
   "outputs": [
    {
     "name": "stdout",
     "output_type": "stream",
     "text": [
      "b'Hello,Python!'\n"
     ]
    }
   ],
   "source": [
    "#Example2\n",
    "Message = \"Hello,Python!\"\n",
    "encode_Message = Message.encode()\n",
    "print(encode_Message)"
   ]
  },
  {
   "cell_type": "markdown",
   "id": "258a7444-b72b-4bcc-bc4d-85da1d458de0",
   "metadata": {},
   "source": [
    "**6.endswith()Method** :-Returns TRUE if the string ends with the specified value"
   ]
  },
  {
   "cell_type": "code",
   "execution_count": 162,
   "id": "6afe1fc6-f0b3-464b-a835-3c6b38d88707",
   "metadata": {},
   "outputs": [
    {
     "name": "stdout",
     "output_type": "stream",
     "text": [
      "False\n"
     ]
    }
   ],
   "source": [
    "#Example1\n",
    "student = \"There are 90 students in one class\"\n",
    "s = student.endswith(\"for\")\n",
    "print(s)"
   ]
  },
  {
   "cell_type": "code",
   "execution_count": 160,
   "id": "b7fc51a2-93d4-45b0-9e87-8e17e0ff928f",
   "metadata": {},
   "outputs": [
    {
     "name": "stdout",
     "output_type": "stream",
     "text": [
      "True\n"
     ]
    }
   ],
   "source": [
    "#Example2\n",
    "Language = \"python is my fav programming language\"\n",
    "L = Language.endswith(\"language\")\n",
    "print(L)"
   ]
  },
  {
   "cell_type": "markdown",
   "id": "9d2020f8-3464-452c-be94-f7b2a94d3702",
   "metadata": {},
   "source": [
    "**7.expandtabs()Method** :-set the tab size of the string"
   ]
  },
  {
   "cell_type": "code",
   "execution_count": 165,
   "id": "630cc579-805a-40db-9bdf-96a28739cdb1",
   "metadata": {},
   "outputs": [
    {
     "name": "stdout",
     "output_type": "stream",
     "text": [
      "Hello   World\n"
     ]
    }
   ],
   "source": [
    "#Example1\n",
    "text = \"Hello\\tWorld\"\n",
    "result = text.expandtabs(4)\n",
    "print(result)"
   ]
  },
  {
   "cell_type": "code",
   "execution_count": 167,
   "id": "066fbb68-f373-4d5e-ae75-6f04cf499faf",
   "metadata": {},
   "outputs": [
    {
     "name": "stdout",
     "output_type": "stream",
     "text": [
      "Black               is                  my                  fav                 colour\n"
     ]
    }
   ],
   "source": [
    "#Example2\n",
    "Message = \"Black\\tis\\tmy\\tfav\\tcolour\"\n",
    "output = Message.expandtabs(20)\n",
    "print(output)"
   ]
  },
  {
   "cell_type": "markdown",
   "id": "5145bc73-efb5-4eaf-b377-83d8ec3c32a9",
   "metadata": {},
   "source": [
    "**8.find()Method** :-Search the string for a specified value and returns the poistion of where it was found"
   ]
  },
  {
   "cell_type": "code",
   "execution_count": 38,
   "id": "bfaa1197-d18a-42a4-9d68-8aab0ea88c9d",
   "metadata": {},
   "outputs": [
    {
     "name": "stdout",
     "output_type": "stream",
     "text": [
      "20\n"
     ]
    }
   ],
   "source": [
    "#Example1\n",
    "Text = \"Python Developer is one of the best developer job\"\n",
    "output = Text.find(\"one\")\n",
    "print(output)"
   ]
  },
  {
   "cell_type": "code",
   "execution_count": 40,
   "id": "38315f00-529b-49e9-a2db-b98e586e6099",
   "metadata": {},
   "outputs": [
    {
     "name": "stdout",
     "output_type": "stream",
     "text": [
      "7\n"
     ]
    }
   ],
   "source": [
    "#Example2\n",
    "Text = \"I love pets\"\n",
    "R = Text.find(\"pets\")\n",
    "print(R)"
   ]
  },
  {
   "cell_type": "markdown",
   "id": "c41698ff-ede1-4893-9913-ddb17a0bcd61",
   "metadata": {},
   "source": [
    "**9.format()Method** :-Formats specified values in a string\r\n"
   ]
  },
  {
   "cell_type": "code",
   "execution_count": 43,
   "id": "7efbffb6-bb59-4d9f-bdd1-2ef4fd7a8c88",
   "metadata": {},
   "outputs": [
    {
     "name": "stdout",
     "output_type": "stream",
     "text": [
      "my age is 22\n"
     ]
    }
   ],
   "source": [
    "#Example1\n",
    "Age = \"my age is 22\"\n",
    "A = Age.format(22)\n",
    "print(A)"
   ]
  },
  {
   "cell_type": "code",
   "execution_count": 45,
   "id": "f249e621-ccf7-4814-ace1-1d29bcc4355f",
   "metadata": {},
   "outputs": [
    {
     "name": "stdout",
     "output_type": "stream",
     "text": [
      " my name is jagruti and my age is 22\n"
     ]
    }
   ],
   "source": [
    "#Example2\n",
    "Age = \" my name is jagruti and my age is 22\"\n",
    "A = Age.format(\"jagruti\",22)\n",
    "print(A)"
   ]
  },
  {
   "cell_type": "markdown",
   "id": "ac222e75-2ea4-4474-850b-a5803fc9d353",
   "metadata": {},
   "source": [
    "**10.index()Method** :-Searches the string for a specified value and returns the position of where it was found\r\n"
   ]
  },
  {
   "cell_type": "code",
   "execution_count": 48,
   "id": "9b8f500f-3637-45c4-bd30-c9d3d7dc6644",
   "metadata": {},
   "outputs": [
    {
     "name": "stdout",
     "output_type": "stream",
     "text": [
      "3\n"
     ]
    }
   ],
   "source": [
    "#Example1\n",
    "Flowers = \"Sunflower,Rose,Lily,Jasmin\"\n",
    "F = Flowers.index(\"f\")\n",
    "print(F)"
   ]
  },
  {
   "cell_type": "code",
   "execution_count": 50,
   "id": "857f1199-4f27-4b84-9ecb-c0cb89977a5e",
   "metadata": {},
   "outputs": [
    {
     "name": "stdout",
     "output_type": "stream",
     "text": [
      "3\n"
     ]
    }
   ],
   "source": [
    "#Example2\n",
    "Numbers = 30,40,50,100,340\n",
    "N = Numbers.index(100)\n",
    "print(N)"
   ]
  },
  {
   "cell_type": "markdown",
   "id": "610af930-c41d-46ab-a24b-e0f9c2b72ab6",
   "metadata": {},
   "source": [
    "**11.isalnum()Method** :-Returns True if all characters in the string are alphanumeric\r\n"
   ]
  },
  {
   "cell_type": "code",
   "execution_count": 53,
   "id": "44137a66-317c-4d53-934e-61b026d21c90",
   "metadata": {},
   "outputs": [
    {
     "name": "stdout",
     "output_type": "stream",
     "text": [
      "True\n"
     ]
    }
   ],
   "source": [
    "#Example1\n",
    "Name = \"jagruti\"\n",
    "output = Name.isalnum()\n",
    "print(output)"
   ]
  },
  {
   "cell_type": "code",
   "execution_count": 55,
   "id": "e1a3da7a-3076-4867-8072-84dc6ac2d370",
   "metadata": {},
   "outputs": [
    {
     "name": "stdout",
     "output_type": "stream",
     "text": [
      "False\n"
     ]
    }
   ],
   "source": [
    "#Example2\n",
    "Name = \"jagruti 12\"\n",
    "output = Name.isalnum()\n",
    "print(output)"
   ]
  },
  {
   "cell_type": "markdown",
   "id": "e33f9e6e-e39f-4cc4-8045-2c91a18d7f7e",
   "metadata": {},
   "source": [
    "**12.isalpha()Method** :-Returns True if all characters in the string are in the alphabet\r\n"
   ]
  },
  {
   "cell_type": "code",
   "execution_count": 58,
   "id": "6397d1f7-0f12-423d-a8a5-7f076309d6f0",
   "metadata": {},
   "outputs": [
    {
     "name": "stdout",
     "output_type": "stream",
     "text": [
      "True\n"
     ]
    }
   ],
   "source": [
    "#Example1\n",
    "Flower = \"Lotus\"\n",
    "returnValue = Flower.isalpha()\n",
    "print(returnValue)"
   ]
  },
  {
   "cell_type": "code",
   "execution_count": 60,
   "id": "a9240b46-1872-40a0-b6d7-e69161645773",
   "metadata": {},
   "outputs": [
    {
     "name": "stdout",
     "output_type": "stream",
     "text": [
      "False\n"
     ]
    }
   ],
   "source": [
    "#Example2\n",
    "Vegitable = \"Cabbage12334433\"\n",
    "returnValue = Vegitable.isalpha()\n",
    "print(returnValue)"
   ]
  },
  {
   "cell_type": "markdown",
   "id": "e8c7b86a-a7e1-4a93-b5f7-ec3b1dd3ef46",
   "metadata": {},
   "source": [
    "**13.isascii()Method** :-Returns True if all characters in the string are ascii characters\r\n"
   ]
  },
  {
   "cell_type": "code",
   "execution_count": 63,
   "id": "b3109100-af6f-4cd9-8113-5730bcf170eb",
   "metadata": {},
   "outputs": [
    {
     "name": "stdout",
     "output_type": "stream",
     "text": [
      "True\n"
     ]
    }
   ],
   "source": [
    "#Example1\n",
    "Text = \"DeltaX\"\n",
    "output = Text.isascii()\n",
    "print(output)"
   ]
  },
  {
   "cell_type": "code",
   "execution_count": 65,
   "id": "46e7e20c-19e7-43f0-b796-403e2c87565e",
   "metadata": {},
   "outputs": [
    {
     "name": "stdout",
     "output_type": "stream",
     "text": [
      "True\n"
     ]
    }
   ],
   "source": [
    "#Example2\n",
    "Text = \"***\"\n",
    "output = Text.isascii()\n",
    "print(output)"
   ]
  },
  {
   "cell_type": "markdown",
   "id": "1db315f4-878e-464d-900d-b18557891eed",
   "metadata": {},
   "source": [
    "**14.isdecimal()Method** :-Returns True if all characters in the string are decimals\r\n"
   ]
  },
  {
   "cell_type": "code",
   "execution_count": 68,
   "id": "85fecd40-d6a9-486b-8694-cb3ddb568a42",
   "metadata": {},
   "outputs": [
    {
     "name": "stdout",
     "output_type": "stream",
     "text": [
      "False\n"
     ]
    }
   ],
   "source": [
    "#Example1\n",
    "Text = \"\"\n",
    "output = Text.isdecimal()\n",
    "print(output)"
   ]
  },
  {
   "cell_type": "code",
   "execution_count": 70,
   "id": "5d483e22-0ccb-43c3-aad6-4668d72acab8",
   "metadata": {},
   "outputs": [
    {
     "name": "stdout",
     "output_type": "stream",
     "text": [
      "True\n"
     ]
    }
   ],
   "source": [
    "#Example2\n",
    "message = \"1111\"\n",
    "output = message.isdecimal()\n",
    "print(output)"
   ]
  },
  {
   "cell_type": "markdown",
   "id": "f0279af2-8158-44e0-8102-90ef46cad0ba",
   "metadata": {},
   "source": [
    "**15.isdigit()Method** :-Returns True if all characters in the string are digits\r\n"
   ]
  },
  {
   "cell_type": "code",
   "execution_count": 73,
   "id": "6f2da87b-d4da-4a7e-a2a8-4fb50ae6f947",
   "metadata": {},
   "outputs": [
    {
     "name": "stdout",
     "output_type": "stream",
     "text": [
      "False\n"
     ]
    }
   ],
   "source": [
    "#Example1\n",
    "Text = \"jagruti\"\n",
    "Return = Text.isdecimal()\n",
    "print(Return)"
   ]
  },
  {
   "cell_type": "code",
   "execution_count": 75,
   "id": "db75d682-acfd-4d93-8fb1-c9f5f6428b90",
   "metadata": {},
   "outputs": [
    {
     "name": "stdout",
     "output_type": "stream",
     "text": [
      "True\n"
     ]
    }
   ],
   "source": [
    "#Example2\n",
    "Text = \"35235437672368\"\n",
    "Return = Text.isdecimal()\n",
    "print(Return)"
   ]
  },
  {
   "cell_type": "markdown",
   "id": "1ea92145-26e6-432b-8bca-588f1642ce59",
   "metadata": {},
   "source": [
    "**16.isidentifier()Method** :-Returns True if the string is an identifier\r\n"
   ]
  },
  {
   "cell_type": "code",
   "execution_count": 78,
   "id": "00a22fcb-ac6c-4515-ae0f-8140bf053dbb",
   "metadata": {},
   "outputs": [
    {
     "name": "stdout",
     "output_type": "stream",
     "text": [
      "False\n"
     ]
    }
   ],
   "source": [
    "#Example1\n",
    "A = \"Local area netwrok\"\n",
    "Return = A.isidentifier()\n",
    "print(Return)"
   ]
  },
  {
   "cell_type": "code",
   "execution_count": 80,
   "id": "f41a3717-a2d8-4494-80b5-57402da067e7",
   "metadata": {},
   "outputs": [
    {
     "name": "stdout",
     "output_type": "stream",
     "text": [
      "True\n"
     ]
    }
   ],
   "source": [
    "#Example2\n",
    "B = \"Jagruti\"\n",
    "Return = B.isidentifier()\n",
    "print(Return)"
   ]
  },
  {
   "cell_type": "markdown",
   "id": "55ef589a-0df3-4545-a3f7-01cb202a5d22",
   "metadata": {},
   "source": [
    "**17.islower()Method** :-Returns True if all characters in the string are lower case\r\n"
   ]
  },
  {
   "cell_type": "code",
   "execution_count": 4,
   "id": "84fb3647-b45b-4312-bce3-08d19c154020",
   "metadata": {},
   "outputs": [
    {
     "name": "stdout",
     "output_type": "stream",
     "text": [
      "False\n"
     ]
    }
   ],
   "source": [
    "#Example1\n",
    "Char = \"Iphone is very costly\"\n",
    "output = Char.islower()\n",
    "print(output)"
   ]
  },
  {
   "cell_type": "code",
   "execution_count": 2,
   "id": "9b96cbb5-b3f1-46e1-b73b-e8b7d2413d5c",
   "metadata": {},
   "outputs": [
    {
     "name": "stdout",
     "output_type": "stream",
     "text": [
      "True\n"
     ]
    }
   ],
   "source": [
    "#Example2\n",
    "Flower = \"black rose is expensive than other flowers\"\n",
    "A = Flower.islower()\n",
    "print(A)"
   ]
  },
  {
   "cell_type": "markdown",
   "id": "ab679b07-89d1-4351-8f54-ab9628e6b222",
   "metadata": {},
   "source": [
    "**18.isnumeric()Method** :-Returns True if all characters in the string are lower case\r\n"
   ]
  },
  {
   "cell_type": "code",
   "execution_count": 6,
   "id": "8f3a6611-d251-40de-a2fc-6d0b790f5e3c",
   "metadata": {},
   "outputs": [
    {
     "name": "stdout",
     "output_type": "stream",
     "text": [
      "True\n"
     ]
    }
   ],
   "source": [
    "#Example1\n",
    "Number = \"1324252252\"\n",
    "output = Number.isnumeric()\n",
    "print(output)"
   ]
  },
  {
   "cell_type": "code",
   "execution_count": 3,
   "id": "48eebfd5-24a7-4ee6-8564-170fe1054954",
   "metadata": {},
   "outputs": [],
   "source": [
    "#Example2\n",
    "Char = \"Choclate\"\n",
    "output = Char.isnumeric()\n",
    "print = (output)"
   ]
  },
  {
   "cell_type": "markdown",
   "id": "e578488d-a84e-4bcd-bb98-3377f671fb61",
   "metadata": {},
   "source": [
    "**19.isprintable()Method** :-Returns True if all characters in the string are printable\r\n"
   ]
  },
  {
   "cell_type": "code",
   "execution_count": 6,
   "id": "20dfcd7b-bf43-4004-8c0b-9c8386c50e0d",
   "metadata": {},
   "outputs": [
    {
     "name": "stdout",
     "output_type": "stream",
     "text": [
      "True\n"
     ]
    }
   ],
   "source": [
    " #Example1\n",
    "Text = \"Pyhton is very eazy\"\n",
    "output = Text.isprintable()\n",
    "print(output)"
   ]
  },
  {
   "cell_type": "code",
   "execution_count": 14,
   "id": "b0646d6e-a832-49ae-8540-e729e4695034",
   "metadata": {},
   "outputs": [
    {
     "name": "stdout",
     "output_type": "stream",
     "text": [
      "False\n"
     ]
    }
   ],
   "source": [
    "#Example2\n",
    "Text = \"Pyhton is \\n eazy\"\n",
    "output = Text.isprintable()\n",
    "print(output)\n"
   ]
  },
  {
   "cell_type": "markdown",
   "id": "e87e33b7-3e74-4aa7-952f-88f013222043",
   "metadata": {},
   "source": [
    "**20.isspace()Method** :-Returns True if all characters in the string are whitespaces\r\n"
   ]
  },
  {
   "cell_type": "code",
   "execution_count": 26,
   "id": "e16bc0e5-734c-4628-9182-66e9339f80c6",
   "metadata": {},
   "outputs": [
    {
     "name": "stdout",
     "output_type": "stream",
     "text": [
      "False\n"
     ]
    }
   ],
   "source": [
    "#Example1\n",
    "Text = \"ARC is located at nandanvan\"\n",
    "print (Text.isspace())"
   ]
  },
  {
   "cell_type": "code",
   "execution_count": 28,
   "id": "9018c4d7-e844-44f6-9bf0-70773663f109",
   "metadata": {},
   "outputs": [
    {
     "name": "stdout",
     "output_type": "stream",
     "text": [
      "True\n"
     ]
    }
   ],
   "source": [
    "#Example2\n",
    "Text = \"   \"\n",
    "print (Text.isspace())"
   ]
  },
  {
   "cell_type": "markdown",
   "id": "a50c6e68-b5a2-4b36-888b-05bfb0364e76",
   "metadata": {},
   "source": [
    "**21.istitle()Method** :-Returns True if the string follows the rules of a title\r\n"
   ]
  },
  {
   "cell_type": "code",
   "execution_count": 30,
   "id": "035c27d1-ab6a-4903-9f25-0cd13dbd8e01",
   "metadata": {},
   "outputs": [
    {
     "name": "stdout",
     "output_type": "stream",
     "text": [
      "False\n"
     ]
    }
   ],
   "source": [
    "#Example1\n",
    "Text = \"APPLE IS RED IN COLOUR\"\n",
    "print(Text.istitle())"
   ]
  },
  {
   "cell_type": "code",
   "execution_count": 34,
   "id": "d4168a70-218c-40d8-a8ab-d1f1a525962b",
   "metadata": {},
   "outputs": [
    {
     "name": "stdout",
     "output_type": "stream",
     "text": [
      "True\n"
     ]
    }
   ],
   "source": [
    "#Example2\n",
    "Text = \"Apple\"\n",
    "print(Text.istitle())"
   ]
  },
  {
   "cell_type": "markdown",
   "id": "a23dac0a-4bf3-47c4-a271-b4f3ba792e6a",
   "metadata": {},
   "source": [
    "**22.isupper()method** :-Returns True if all characters in the string are upper case\r\n"
   ]
  },
  {
   "cell_type": "code",
   "execution_count": 39,
   "id": "64196c5e-d240-4884-91d9-09581daf8206",
   "metadata": {},
   "outputs": [
    {
     "name": "stdout",
     "output_type": "stream",
     "text": [
      "True\n"
     ]
    }
   ],
   "source": [
    "#Example1\n",
    "Text = \"HELLO INDIA\"\n",
    "print(Text.isupper())"
   ]
  },
  {
   "cell_type": "code",
   "execution_count": 41,
   "id": "bf7341fe-e287-4403-ac7c-80fde14c86c1",
   "metadata": {},
   "outputs": [
    {
     "name": "stdout",
     "output_type": "stream",
     "text": [
      "False\n"
     ]
    }
   ],
   "source": [
    "#Example2\n",
    "Text = \"hello INDIA\"\n",
    "print(Text.isupper())"
   ]
  },
  {
   "cell_type": "markdown",
   "id": "1f56bf26-1ea0-46a0-977b-ffaaf1fc5641",
   "metadata": {},
   "source": [
    "**23.join()Method** :-Converts the elements of an iterable into a string\r\n"
   ]
  },
  {
   "cell_type": "code",
   "execution_count": 52,
   "id": "0292bab3-a624-422b-9fd8-4b187429fddd",
   "metadata": {},
   "outputs": [
    {
     "name": "stdout",
     "output_type": "stream",
     "text": [
      "Akshay,Jagruti,Sejal,Sanskruti\n"
     ]
    }
   ],
   "source": [
    "#Example1\n",
    "MyFriend = (\"Akshay\",\"Jagruti\",\"Sejal\",\"Sanskruti\")\n",
    "X = ','.join(MyFriend)\n",
    "print(X)"
   ]
  },
  {
   "cell_type": "code",
   "execution_count": 58,
   "id": "aa3cd36a-fddb-4d25-9afe-6fb5b96ab1da",
   "metadata": {},
   "outputs": [
    {
     "name": "stdout",
     "output_type": "stream",
     "text": [
      "name:akshay:city:amravati\n"
     ]
    }
   ],
   "source": [
    "#Example2\n",
    "MyDict = (\"name\",\"akshay\",\"city\",\"amravati\")\n",
    "X = ':'.join(MyDict)\n",
    "print(X)"
   ]
  },
  {
   "cell_type": "markdown",
   "id": "8baeff81-4657-43b0-9b86-6c1e3470d432",
   "metadata": {},
   "source": [
    "**24.ljust()Method** :-Returns a left justified version of the string\r\n"
   ]
  },
  {
   "cell_type": "code",
   "execution_count": 67,
   "id": "68097129-c273-4797-8839-63a319c96308",
   "metadata": {},
   "outputs": [
    {
     "name": "stdout",
     "output_type": "stream",
     "text": [
      "Strawberry           is my favorite fruit\n"
     ]
    }
   ],
   "source": [
    "#Example1\n",
    "Txt = \"Strawberry\"\n",
    "A = Txt.ljust(20)\n",
    "print(A,\"is my favorite fruit\")"
   ]
  },
  {
   "cell_type": "code",
   "execution_count": 71,
   "id": "27abf40a-2c73-4347-a7b7-b6c7cb25737d",
   "metadata": {},
   "outputs": [
    {
     "name": "stdout",
     "output_type": "stream",
     "text": [
      "ARC                                      TECHNOLOGY\n"
     ]
    }
   ],
   "source": [
    "#Example2\n",
    "Txt = \"ARC\"\n",
    "A = Txt.ljust(40)\n",
    "print(A,\"TECHNOLOGY\")"
   ]
  },
  {
   "cell_type": "markdown",
   "id": "bd29b520-16c7-4a4a-9a5d-83d50d90dc1b",
   "metadata": {},
   "source": [
    "**25.lstrip()Method** :-Returns a left trim version of the string\r\n"
   ]
  },
  {
   "cell_type": "code",
   "execution_count": 74,
   "id": "5ecb43aa-f63e-4d3c-81df-1d55ef7c1d01",
   "metadata": {},
   "outputs": [
    {
     "name": "stdout",
     "output_type": "stream",
     "text": [
      "Pyhton\n"
     ]
    }
   ],
   "source": [
    "#Example1\n",
    "Txt = \"......////--Pyhton\"\n",
    "T = Txt.lstrip(\"./-\")\n",
    "print(T)"
   ]
  },
  {
   "cell_type": "code",
   "execution_count": 78,
   "id": "778b1855-9bbf-4b1e-afaf-c2a73d00d8a9",
   "metadata": {},
   "outputs": [
    {
     "name": "stdout",
     "output_type": "stream",
     "text": [
      "INDIA        \n"
     ]
    }
   ],
   "source": [
    "#Example2\n",
    "Txt = \"       INDIA        \"\n",
    "T = Txt.lstrip()\n",
    "print(T)"
   ]
  },
  {
   "cell_type": "markdown",
   "id": "90ba3f6e-b1c1-4ddd-974d-403ee0a1f8d8",
   "metadata": {},
   "source": [
    "**26.maketrans()Method** :-Returns a translation table to be used in translations\r\n"
   ]
  },
  {
   "cell_type": "code",
   "execution_count": 88,
   "id": "79f2a197-5d32-44cf-95eb-bb07bffb5253",
   "metadata": {},
   "outputs": [
    {
     "name": "stdout",
     "output_type": "stream",
     "text": [
      "{119: 104, 101: 101, 108: 108, 99: 108, 111: 111}\n"
     ]
    }
   ],
   "source": [
    "#Example1\n",
    "Txt = \" welco INDIA\"\n",
    "T = Txt.maketrans(\"welco\",\"hello\")\n",
    "print(T)"
   ]
  },
  {
   "cell_type": "code",
   "execution_count": 97,
   "id": "e6d27729-8dc8-48db-af61-6387b902cbc0",
   "metadata": {},
   "outputs": [
    {
     "name": "stdout",
     "output_type": "stream",
     "text": [
      "{103: 104, 111: 108, 100: 108, 105: 111}\n"
     ]
    }
   ],
   "source": [
    "#Example2\n",
    "Txt = \"goodi morining\"\n",
    "T = Txt.maketrans(\"goodi\",\"hello\")\n",
    "print(T)"
   ]
  },
  {
   "cell_type": "markdown",
   "id": "01872d45-e78c-4610-a622-b4f6e5c09b1a",
   "metadata": {},
   "source": [
    "**27.partition()Method** :-Returns a tuple where the string is parted into three parts\r\n"
   ]
  },
  {
   "cell_type": "code",
   "execution_count": 100,
   "id": "38c2b2b5-2fd0-4c3c-9df4-4558a354bf38",
   "metadata": {},
   "outputs": [
    {
     "name": "stdout",
     "output_type": "stream",
     "text": [
      "('girls ', 'love', ' makeup')\n"
     ]
    }
   ],
   "source": [
    "#Example1\n",
    "Txt = \"girls love makeup\"\n",
    "T = Txt.partition(\"love\")\n",
    "print(T)"
   ]
  },
  {
   "cell_type": "code",
   "execution_count": 102,
   "id": "2dcfcb80-3d22-4090-aca2-d6e53f339a91",
   "metadata": {},
   "outputs": [
    {
     "name": "stdout",
     "output_type": "stream",
     "text": [
      "('Python string ', 'partition', ' method')\n"
     ]
    }
   ],
   "source": [
    "#Example2\n",
    "Txt = \"Python string partition method\"\n",
    "T = Txt.partition(\"partition\")\n",
    "print(T)"
   ]
  },
  {
   "cell_type": "markdown",
   "id": "81fbb23b-fa6a-4391-95aa-29113e139b22",
   "metadata": {},
   "source": [
    "**29.replace()Method** :-Returns a string where a specified value is replaced with a specified value\r\n"
   ]
  },
  {
   "cell_type": "code",
   "execution_count": 109,
   "id": "685a639b-3597-4f87-bd98-e2990b704914",
   "metadata": {},
   "outputs": [
    {
     "name": "stdout",
     "output_type": "stream",
     "text": [
      "Hello, Jagruti\n"
     ]
    }
   ],
   "source": [
    "#Example1\n",
    "Txt = \"Hello, world\"\n",
    "new_txt = Txt.replace(\"world\",\"Jagruti\")\n",
    "print(new_txt)"
   ]
  },
  {
   "cell_type": "code",
   "execution_count": 111,
   "id": "412d3545-e471-4711-94a8-48160003077b",
   "metadata": {},
   "outputs": [
    {
     "name": "stdout",
     "output_type": "stream",
     "text": [
      "I love mango.mango is my fav fruit\n"
     ]
    }
   ],
   "source": [
    "#Example2\n",
    "Txt = \"I love apple.apple is my fav fruit\"\n",
    "new_txt = Txt.replace(\"apple\",\"mango\")\n",
    "print(new_txt)"
   ]
  },
  {
   "cell_type": "markdown",
   "id": "f716be6f-36ca-4701-8b9a-b2c74fd347be",
   "metadata": {},
   "source": [
    "**30.rfind()Method** :-Searches the string for a specified value and returns the last position of where it was found\r\n"
   ]
  },
  {
   "cell_type": "code",
   "execution_count": 118,
   "id": "603f414e-0db6-4d68-b29f-0a76503dcdd3",
   "metadata": {},
   "outputs": [
    {
     "name": "stdout",
     "output_type": "stream",
     "text": [
      "7\n"
     ]
    }
   ],
   "source": [
    "#Example1\n",
    "Txt = \"Hello, world\"\n",
    "new_txt = Txt.rfind(\"world\")\n",
    "print(new_txt)\n"
   ]
  },
  {
   "cell_type": "code",
   "execution_count": 122,
   "id": "d4309431-875f-47c8-8ba8-8e23f0f056c1",
   "metadata": {},
   "outputs": [
    {
     "name": "stdout",
     "output_type": "stream",
     "text": [
      "29\n"
     ]
    }
   ],
   "source": [
    "#Example2\n",
    "Txt = \"I love apple.apple is my fav fruit\"\n",
    "new_txt = Txt.rfind(\"fruit\")\n",
    "print(new_txt)"
   ]
  },
  {
   "cell_type": "markdown",
   "id": "defd1813-3709-4839-95f5-6179791a0b6a",
   "metadata": {},
   "source": [
    "**31.rindex()Method** :-Searches the string for a specified value and returns the last position of where it was found\r\n"
   ]
  },
  {
   "cell_type": "code",
   "execution_count": 127,
   "id": "f07c1381-7148-4d27-8857-25b53919c2b7",
   "metadata": {},
   "outputs": [
    {
     "name": "stdout",
     "output_type": "stream",
     "text": [
      "11\n"
     ]
    }
   ],
   "source": [
    "Txt = \"Hello, world\"\n",
    "new_txt = Txt.rindex(\"d\")\n",
    "print(new_txt)\n"
   ]
  },
  {
   "cell_type": "code",
   "execution_count": 129,
   "id": "526c258f-dca6-4c31-b376-c23df0bad532",
   "metadata": {},
   "outputs": [
    {
     "name": "stdout",
     "output_type": "stream",
     "text": [
      "33\n"
     ]
    }
   ],
   "source": [
    "#Example2\n",
    "Txt = \"I love apple.apple is my fav fruit\"\n",
    "new_txt = Txt.rfind(\"t\")\n",
    "print(new_txt)"
   ]
  },
  {
   "cell_type": "markdown",
   "id": "7db0c523-a0da-4c71-acbc-4e2feb20a9f7",
   "metadata": {},
   "source": [
    "**32.rjust()Method** :-Returns a right justified version of the string\r\n"
   ]
  },
  {
   "cell_type": "code",
   "execution_count": 12,
   "id": "819db5dd-964b-4843-a95b-0beef93baab7",
   "metadata": {},
   "outputs": [
    {
     "name": "stdout",
     "output_type": "stream",
     "text": [
      "*********************Learning never stop\n"
     ]
    }
   ],
   "source": [
    "#Example1\n",
    "Txt = \"Learning never stop\"\n",
    "output = Txt.rjust(40,\"*\")\n",
    "print(output)"
   ]
  },
  {
   "cell_type": "code",
   "execution_count": 14,
   "id": "47bf191a-910f-4920-b126-24844f4597e5",
   "metadata": {},
   "outputs": [
    {
     "name": "stdout",
     "output_type": "stream",
     "text": [
      "-------------Jagruti\n"
     ]
    }
   ],
   "source": [
    "#Example2\n",
    "Txt = \"Jagruti\"\n",
    "output = Txt.rjust(20,\"-\")\n",
    "print(output)"
   ]
  },
  {
   "cell_type": "markdown",
   "id": "10ee2b55-ee19-4aca-bbc3-9bef2bf2b20e",
   "metadata": {},
   "source": [
    "**33.rpartition()Method** :-Returns a tuple where the string is parted into three parts\r\n"
   ]
  },
  {
   "cell_type": "code",
   "execution_count": 24,
   "id": "e2729a84-e658-404f-8a9a-be6332228bf8",
   "metadata": {},
   "outputs": [
    {
     "name": "stdout",
     "output_type": "stream",
     "text": [
      "('Data analysis is fun,', 'data', ' science is powerfull')\n"
     ]
    }
   ],
   "source": [
    "#Example1\n",
    "sentence = \"Data analysis is fun,data science is powerfull\"\n",
    "result = sentence.rpartition(\"data\")\n",
    "print(result)"
   ]
  },
  {
   "cell_type": "code",
   "execution_count": 28,
   "id": "b369d03b-8f02-46c4-a335-cc268cf0d01d",
   "metadata": {},
   "outputs": [
    {
     "name": "stdout",
     "output_type": "stream",
     "text": [
      "('The girl name was jagruti,and she is 22 year old ,', 'jagruti', ' is live in nagpur')\n"
     ]
    }
   ],
   "source": [
    "#Example2\n",
    "sentence = \"The girl name was jagruti,and she is 22 year old ,jagruti is live in nagpur\"\n",
    "result = sentence.rpartition(\"jagruti\")\n",
    "print(result)"
   ]
  },
  {
   "cell_type": "markdown",
   "id": "a24b7895-e281-46a3-b0b8-1e91b72b22e7",
   "metadata": {},
   "source": [
    "**34.rsplit()Method** :-Splits the string at the specified separator, and returns a list\r\n"
   ]
  },
  {
   "cell_type": "code",
   "execution_count": 31,
   "id": "be13106f-58a0-44f0-b9e6-fe3a65bc4933",
   "metadata": {},
   "outputs": [
    {
     "name": "stdout",
     "output_type": "stream",
     "text": [
      "['INDIA', 'USA', 'DUBAI', 'LANDON']\n"
     ]
    }
   ],
   "source": [
    "#Example1\n",
    "Txt = \"INDIA,USA,DUBAI,LANDON\"\n",
    "output = Txt.rsplit(\",\")\n",
    "print(output)\n",
    "                    "
   ]
  },
  {
   "cell_type": "code",
   "execution_count": 35,
   "id": "db847ca2-2b21-410e-bed9-3d8c3f54c985",
   "metadata": {},
   "outputs": [
    {
     "name": "stdout",
     "output_type": "stream",
     "text": [
      "['Apple,Banana', 'Cherry', 'Mango']\n"
     ]
    }
   ],
   "source": [
    "#Example2\n",
    "Txt = \"Apple,Banana,Cherry,Mango\"\n",
    "output = Txt.rsplit(\",\",2)\n",
    "print(output)\n",
    "                 "
   ]
  },
  {
   "cell_type": "markdown",
   "id": "1738ef7f-2d49-4ae1-b2e4-e8f2de403f3c",
   "metadata": {},
   "source": [
    "**35.rstrip()Method** :-Returns a right trim version of the string\r\n"
   ]
  },
  {
   "cell_type": "code",
   "execution_count": 50,
   "id": "433d34d3-8252-4efa-a613-66093d18c753",
   "metadata": {},
   "outputs": [
    {
     "name": "stdout",
     "output_type": "stream",
     "text": [
      "Strawberry\n"
     ]
    }
   ],
   "source": [
    "#Example1\n",
    "Txt = \"Strawberry,,,,ssqqww....\"\n",
    "output = Txt.rstrip(\",.qsw\")\n",
    "print(output)"
   ]
  },
  {
   "cell_type": "code",
   "execution_count": 54,
   "id": "372b18fd-ed01-473b-b0bd-b0b590cb0dcd",
   "metadata": {},
   "outputs": [
    {
     "name": "stdout",
     "output_type": "stream",
     "text": [
      "i just love     Apple more than other fruit\n"
     ]
    }
   ],
   "source": [
    "#Example2\n",
    "Txt = \"    Apple    \"\n",
    "output = Txt.rstrip()\n",
    "print(\"i just love\",output,\"more than other fruit\")"
   ]
  },
  {
   "cell_type": "markdown",
   "id": "56aeeeda-f5db-45a7-8116-a7615bb193b6",
   "metadata": {},
   "source": [
    "**36.split()Method** :-Splits the string at the specified separator, and returns a list\r\n"
   ]
  },
  {
   "cell_type": "code",
   "execution_count": 59,
   "id": "905e07ea-b163-47e1-8d24-9233a6b8d404",
   "metadata": {},
   "outputs": [
    {
     "name": "stdout",
     "output_type": "stream",
     "text": [
      "['welcome', 'to', 'most', 'beautiful', 'place', 'INDIA']\n"
     ]
    }
   ],
   "source": [
    "#Example1\n",
    "Txt = \"welcome to most beautiful place INDIA\"\n",
    "output = Txt.split()\n",
    "print(output)"
   ]
  },
  {
   "cell_type": "code",
   "execution_count": 61,
   "id": "e81ceaa5-33ce-49d6-8d84-ee559446d68c",
   "metadata": {},
   "outputs": [
    {
     "name": "stdout",
     "output_type": "stream",
     "text": [
      "['I', 'have', '2', 'dogs', 'in', 'my', 'house', 'and', 'all', 'of', 'are', 'so', 'cute', 'and', 'loyal']\n"
     ]
    }
   ],
   "source": [
    "#Example2\n",
    "Txt = \"I have 2 dogs in my house and all of are so cute and loyal\"\n",
    "output = Txt.split()\n",
    "print(output)"
   ]
  },
  {
   "cell_type": "markdown",
   "id": "fd934b8e-3dbb-4dc6-8200-31eafa78d3fa",
   "metadata": {},
   "source": [
    "**37.splitlines()Method** :-Splits the string at line breaks and returns a list\r\n"
   ]
  },
  {
   "cell_type": "code",
   "execution_count": 66,
   "id": "69775c01-4add-4413-96e3-080498052ca5",
   "metadata": {},
   "outputs": [
    {
     "name": "stdout",
     "output_type": "stream",
     "text": [
      "['maggie', 'Burger', 'Pizaa', 'Sandwhich']\n"
     ]
    }
   ],
   "source": [
    "#Example1\n",
    "Txt = \"maggie\\nBurger\\nPizaa\\nSandwhich\"\n",
    "output = Txt.splitlines()\n",
    "print(output)"
   ]
  },
  {
   "cell_type": "code",
   "execution_count": 72,
   "id": "9c1f67d9-9a3f-4afd-94d1-933befaa6427",
   "metadata": {},
   "outputs": [
    {
     "name": "stdout",
     "output_type": "stream",
     "text": [
      "['This is first line.This is second line.This is third line']\n"
     ]
    }
   ],
   "source": [
    "#Example2\n",
    "Txt = \"\"\"This is first line.This is second line.This is third line\"\"\"\n",
    "Lines = Txt.splitlines()\n",
    "print(Lines)"
   ]
  },
  {
   "cell_type": "markdown",
   "id": "450f45ee-3df6-406a-a3d4-d4370b3d33eb",
   "metadata": {},
   "source": [
    "**38.startswith()Method** :-Returns true if the string starts with the specified value\r\n"
   ]
  },
  {
   "cell_type": "code",
   "execution_count": 77,
   "id": "133f49b2-0ee2-4d93-9db6-2dffb829353e",
   "metadata": {},
   "outputs": [
    {
     "name": "stdout",
     "output_type": "stream",
     "text": [
      "True\n"
     ]
    }
   ],
   "source": [
    "#Example1\n",
    "message = \"I Really appreciate your support\"\n",
    "output = message.startswith(\"I\")\n",
    "print(output)                       "
   ]
  },
  {
   "cell_type": "code",
   "execution_count": 79,
   "id": "71f8e258-f40b-4c16-a838-baeebe987e90",
   "metadata": {},
   "outputs": [
    {
     "name": "stdout",
     "output_type": "stream",
     "text": [
      "False\n"
     ]
    }
   ],
   "source": [
    "#Example2\n",
    "message = \"I Really appreciate your support\"\n",
    "output = message.startswith(\"Really\")\n",
    "print(output)"
   ]
  },
  {
   "cell_type": "markdown",
   "id": "c677141b-3a7e-4b47-88f1-9aab07482ac9",
   "metadata": {},
   "source": [
    "**39.swapcase()Method** :-Swaps cases, lower case becomes upper case and vice versa\r\n",
    "\r\n"
   ]
  },
  {
   "cell_type": "code",
   "execution_count": 82,
   "id": "1de3ebc2-5bb5-45f0-bcba-d5c32c13d8f1",
   "metadata": {},
   "outputs": [
    {
     "name": "stdout",
     "output_type": "stream",
     "text": [
      "dREAM bIG,worK HARd,ACHieVE SUCCEss\n"
     ]
    }
   ],
   "source": [
    "#Example1\n",
    "Inspiration = \"Dream Big,WORk harD,achIEve succeSS\"\n",
    "output = Inspiration.swapcase()\n",
    "print(output)"
   ]
  },
  {
   "cell_type": "code",
   "execution_count": 84,
   "id": "241a7ace-1bc0-4405-92d3-01cec2a92a65",
   "metadata": {},
   "outputs": [
    {
     "name": "stdout",
     "output_type": "stream",
     "text": [
      "neVER give up ON YOUR dreaMS\n"
     ]
    }
   ],
   "source": [
    "#Example2\n",
    "Inspiration = \"NEver GIVE UP on your DREAms\"\n",
    "output = Inspiration.swapcase()\n",
    "print(output)"
   ]
  },
  {
   "cell_type": "markdown",
   "id": "0a3527f2-dc10-41e7-94b8-ab8e9f8b566f",
   "metadata": {},
   "source": [
    "**40.title()Method** :-Converts the first character of each word to upper case\r\n"
   ]
  },
  {
   "cell_type": "code",
   "execution_count": 87,
   "id": "f4f51f1a-f7c2-482e-9009-73cee12336e3",
   "metadata": {},
   "outputs": [
    {
     "name": "stdout",
     "output_type": "stream",
     "text": [
      "You Got This ! Keep Going\n"
     ]
    }
   ],
   "source": [
    "#Example1\n",
    "Encouragement = \"you got this ! keep going\"\n",
    "output = Encouragement.title()\n",
    "print(output)"
   ]
  },
  {
   "cell_type": "code",
   "execution_count": 93,
   "id": "1d965ac4-6dc6-45ca-a976-4da8e58366c0",
   "metadata": {},
   "outputs": [
    {
     "name": "stdout",
     "output_type": "stream",
     "text": [
      "Believe In Yourself\n"
     ]
    }
   ],
   "source": [
    "#Example2\n",
    "Encouragement = \"believe in yourself\"\n",
    "output = Encouragement.title()\n",
    "print(output)"
   ]
  },
  {
   "cell_type": "markdown",
   "id": "6b8e38f9-91ff-4e8e-8f98-b81027ac7bb0",
   "metadata": {},
   "source": [
    "**41.translate()Method** :-Returns a translated string\r\n"
   ]
  },
  {
   "cell_type": "code",
   "execution_count": 114,
   "id": "cafed9ad-dd70-499c-83cf-4c1d2a539647",
   "metadata": {},
   "outputs": [
    {
     "name": "stdout",
     "output_type": "stream",
     "text": [
      "mood morining\n"
     ]
    }
   ],
   "source": [
    "#Example1\n",
    "Greeting = \"Good morining\"\n",
    "mydict = str.maketrans(\"G\",\"m\")\n",
    "print(Greeting.translate(mydict))"
   ]
  },
  {
   "cell_type": "code",
   "execution_count": 120,
   "id": "02b79194-d257-47e9-896e-b6cb8b93e35c",
   "metadata": {},
   "outputs": [
    {
     "name": "stdout",
     "output_type": "stream",
     "text": [
      "Good Night Sam\n"
     ]
    }
   ],
   "source": [
    "#Example2\n",
    "Greeting = \"Good Night Sam\"\n",
    "mydict = (109,108)\n",
    "print(Greeting.translate(mydict))"
   ]
  },
  {
   "cell_type": "markdown",
   "id": "bc941211-d8a0-4f05-a7a1-701e24a77c81",
   "metadata": {},
   "source": [
    "**42.upper()Method** :-Converts a string into upper case\r\n"
   ]
  },
  {
   "cell_type": "code",
   "execution_count": 123,
   "id": "e9928302-931a-49bb-90be-c51ffba0c5e8",
   "metadata": {},
   "outputs": [
    {
     "name": "stdout",
     "output_type": "stream",
     "text": [
      "BOOKS ARE KNOWLEDGE\n"
     ]
    }
   ],
   "source": [
    "#Example1\n",
    "Txt = \"Books are knowledge\"\n",
    "output = Txt.upper()\n",
    "print(output)"
   ]
  },
  {
   "cell_type": "code",
   "execution_count": 125,
   "id": "fb8a3f3f-2043-4f71-92a0-40d4e6cb1050",
   "metadata": {},
   "outputs": [
    {
     "name": "stdout",
     "output_type": "stream",
     "text": [
      "I LOVE DOGS\n"
     ]
    }
   ],
   "source": [
    "#Example2\n",
    "Txt = \"i love dogs\"\n",
    "output = Txt.upper()\n",
    "print(output)"
   ]
  },
  {
   "cell_type": "markdown",
   "id": "bd572c0d-527b-4492-9d87-8536731c3238",
   "metadata": {},
   "source": [
    "**43.zfill()Method** :-Fills the string with a specified number of 0 values at the beginning\r\n"
   ]
  },
  {
   "cell_type": "code",
   "execution_count": 130,
   "id": "49b31d76-36e8-4498-b3eb-f31c17481f40",
   "metadata": {},
   "outputs": [
    {
     "name": "stdout",
     "output_type": "stream",
     "text": [
      "000010.000\n"
     ]
    }
   ],
   "source": [
    "#Example2\n",
    "Txt = \"10.000\"\n",
    "output = Txt.zfill(10)\n",
    "print(output)"
   ]
  },
  {
   "cell_type": "code",
   "execution_count": null,
   "id": "27897bea-9884-4b46-8784-83b63107a3ef",
   "metadata": {},
   "outputs": [],
   "source": []
  }
 ],
 "metadata": {
  "kernelspec": {
   "display_name": "Python 3 (ipykernel)",
   "language": "python",
   "name": "python3"
  },
  "language_info": {
   "codemirror_mode": {
    "name": "ipython",
    "version": 3
   },
   "file_extension": ".py",
   "mimetype": "text/x-python",
   "name": "python",
   "nbconvert_exporter": "python",
   "pygments_lexer": "ipython3",
   "version": "3.12.4"
  }
 },
 "nbformat": 4,
 "nbformat_minor": 5
}
